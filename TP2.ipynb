{
 "cells": [
  {
   "cell_type": "code",
   "execution_count": 1,
   "metadata": {
    "collapsed": true
   },
   "outputs": [],
   "source": [
    "import numpy as np\n",
    "import pandas as pd\n",
    "import csv\n",
    "from time import time\n",
    "\n",
    "# plots\n",
    "import matplotlib.pyplot as plt\n",
    "import seaborn as sns\n",
    "\n",
    "from sklearn.model_selection import GridSearchCV\n",
    "from sklearn.model_selection import cross_val_score\n",
    "from datetime import datetime\n",
    "import matplotlib.pyplot as plt"
   ]
  },
  {
   "cell_type": "code",
   "execution_count": 2,
   "metadata": {
    "collapsed": true
   },
   "outputs": [],
   "source": [
    "data_17_08 = pd.read_csv('../data/properati/properati-AR-2017-08-01-properties-sell.csv')\n",
    "data_17_02 = pd.read_csv('../data/properati/properati-AR-2017-02-01-properties-sell.csv')\n",
    "data_16_08 = pd.read_csv('../data/properati/properati-AR-2016-08-01-properties-sell.csv')\n",
    "data_16_02 = pd.read_csv('../data/properati/properati-AR-2016-02-01-properties-sell.csv')\n",
    "data_15_08 = pd.read_csv('../data/properati/properati-AR-2015-08-01-properties-sell.csv')\n",
    "data_15_02 = pd.read_csv('../data/properati/properati-AR-2015-02-01-properties-sell.csv')\n",
    "data_14_08 = pd.read_csv('../data/properati/properati-AR-2014-08-01-properties-sell.csv')\n",
    "data_14_02 = pd.read_csv('../data/properati/properati-AR-2014-02-01-properties-sell.csv')\n",
    "data_13_08 = pd.read_csv('../data/properati/properati-AR-2013-08-01-properties-sell.csv')\n",
    "\n",
    "data_frames16_17 = [data_17_08, data_17_02, data_16_08, data_16_02]\n",
    "train16_17 = pd.concat(data_frames16_17)\n",
    "\n",
    "#Nos quedamos con las zonas de Capital Federal y GBA\n",
    "train16_17 = train16_17.loc[(train16_17.state_name=='Capital Federal') | (train16_17.state_name.str.contains('G.B.A'))]\n",
    "\n",
    "#Los dataframe del 2013, 2014, 2015 no tienen la columna state_name, todas las propiedades son de CABA y GBA\n",
    "data_frames13_15 = [data_15_08,data_15_02,data_14_08,data_14_02,data_13_08]\n",
    "train13_15 = pd.concat(data_frames13_15)\n",
    "\n",
    "train13_15.rename(columns={'surface_in_m2':'surface_total_in_m2'}, inplace=True)\n",
    "\n",
    "data_frames = [train16_17,train13_15]\n",
    "train = pd.concat(data_frames)"
   ]
  },
  {
   "cell_type": "code",
   "execution_count": 3,
   "metadata": {
    "collapsed": true
   },
   "outputs": [],
   "source": [
    "train = train.loc[(train.property_type != 'store')]"
   ]
  },
  {
   "cell_type": "code",
   "execution_count": 4,
   "metadata": {
    "collapsed": true
   },
   "outputs": [],
   "source": [
    "train['created_on'] = pd.to_datetime(train['created_on'])\n",
    "train = train.drop('image_thumbnail', axis=1)\n",
    "train = train.drop('operation', axis=1)\n",
    "train = train.drop('properati_url', axis=1)\n",
    "train = train.drop('description', axis=1)\n",
    "train = train.drop('place_with_parent_names', axis=1)\n",
    "train = train.drop('title', axis=1)\n",
    "train = train.drop('place_name', axis=1)\n",
    "train = train.drop('state_name', axis=1)\n",
    "train = train.drop('property_type', axis=1)\n",
    "train = train.drop('lat-lon', axis=1)\n",
    "train = train.drop('id', axis=1)\n",
    "train = train.drop('country_name', axis=1)\n",
    "train = train.drop('extra', axis=1)\n",
    "train = train.drop('price_aprox_local_currency', axis=1)\n",
    "train = train.drop('price_per_m2', axis=1)\n",
    "train = train.drop('currency', axis=1)\n",
    "train = train.drop('created_on', axis=1)\n",
    "train = train.drop('geonames_id', axis=1)\n",
    "train = train.drop('lat', axis=1)\n",
    "train = train.drop('lon', axis=1)\n",
    "train = train.drop('price', axis=1)"
   ]
  },
  {
   "cell_type": "code",
   "execution_count": 5,
   "metadata": {
    "collapsed": true
   },
   "outputs": [],
   "source": [
    "train['expenses'] = pd.to_numeric(train['expenses'], errors='coerce')\n",
    "train['price_usd_per_m2'] = pd.to_numeric(train['price_usd_per_m2'], errors='coerce')\n",
    "train['surface_covered_in_m2'] = pd.to_numeric(train['surface_covered_in_m2'], errors='coerce')\n",
    "train['surface_total_in_m2'] = pd.to_numeric(train['surface_total_in_m2'], errors='coerce')\n",
    "train['floor'] = pd.to_numeric(train['floor'], errors='coerce')\n",
    "train['rooms'] = pd.to_numeric(train['rooms'], errors='coerce')\n",
    "\n",
    "train[['price_usd_per_m2', 'rooms','surface_covered_in_m2','surface_total_in_m2']] \\\n",
    "= train[['price_usd_per_m2', 'rooms','surface_covered_in_m2','surface_total_in_m2']].fillna(value=0)\n",
    "train[['expenses']] = train[['expenses']].fillna(value=0)\n",
    "train[['floor']] = train[['floor']].fillna(value=0)\n",
    "train[['price_aprox_usd']] = train[['price_aprox_usd']].fillna(value=0)\n",
    "\n",
    "#Elimino las filas que no indican el precio (o indican el precio pero ningun otro feature)\n",
    "train=train.loc[train['price_aprox_usd'] > 0]\n",
    "train=train.loc[(train['expenses'] > 0) | (train['floor'] > 0) | (train['price_usd_per_m2'] > 0) | (train['rooms'] > 0) \\\n",
    "            | (train['surface_total_in_m2'] > 0)]"
   ]
  },
  {
   "cell_type": "code",
   "execution_count": 6,
   "metadata": {
    "collapsed": false
   },
   "outputs": [
    {
     "data": {
      "text/html": [
       "<div>\n",
       "<style>\n",
       "    .dataframe thead tr:only-child th {\n",
       "        text-align: right;\n",
       "    }\n",
       "\n",
       "    .dataframe thead th {\n",
       "        text-align: left;\n",
       "    }\n",
       "\n",
       "    .dataframe tbody tr th {\n",
       "        vertical-align: top;\n",
       "    }\n",
       "</style>\n",
       "<table border=\"1\" class=\"dataframe\">\n",
       "  <thead>\n",
       "    <tr style=\"text-align: right;\">\n",
       "      <th></th>\n",
       "      <th>expenses</th>\n",
       "      <th>floor</th>\n",
       "      <th>price_aprox_usd</th>\n",
       "      <th>price_usd_per_m2</th>\n",
       "      <th>rooms</th>\n",
       "      <th>surface_covered_in_m2</th>\n",
       "      <th>surface_total_in_m2</th>\n",
       "    </tr>\n",
       "  </thead>\n",
       "  <tbody>\n",
       "    <tr>\n",
       "      <th>0</th>\n",
       "      <td>0.0</td>\n",
       "      <td>0.0</td>\n",
       "      <td>120000.0</td>\n",
       "      <td>360.36036</td>\n",
       "      <td>0.0</td>\n",
       "      <td>93.0</td>\n",
       "      <td>333.0</td>\n",
       "    </tr>\n",
       "  </tbody>\n",
       "</table>\n",
       "</div>"
      ],
      "text/plain": [
       "   expenses  floor  price_aprox_usd  price_usd_per_m2  rooms  \\\n",
       "0       0.0    0.0         120000.0         360.36036    0.0   \n",
       "\n",
       "   surface_covered_in_m2  surface_total_in_m2  \n",
       "0                   93.0                333.0  "
      ]
     },
     "execution_count": 6,
     "metadata": {},
     "output_type": "execute_result"
    }
   ],
   "source": [
    "train.head(1)"
   ]
  },
  {
   "cell_type": "code",
   "execution_count": 7,
   "metadata": {
    "collapsed": true
   },
   "outputs": [],
   "source": [
    "train_label = []\n",
    "train_data = []\n",
    "\n",
    "train_label = train.iloc[:, 2]\n",
    "train_data = train.iloc[:, train.columns != 'price_aprox_usd']"
   ]
  },
  {
   "cell_type": "code",
   "execution_count": 8,
   "metadata": {
    "collapsed": true
   },
   "outputs": [],
   "source": [
    "#-----------------------------------------------------------------\n",
    "# Modelo Random Forest Regressor\n",
    "#-----------------------------------------------------------------\n",
    "from sklearn.ensemble import RandomForestRegressor"
   ]
  },
  {
   "cell_type": "code",
   "execution_count": 10,
   "metadata": {
    "collapsed": false
   },
   "outputs": [
    {
     "name": "stdout",
     "output_type": "stream",
     "text": [
      "[INFO] grid search accuracy: 84.54%\n",
      "[INFO] grid search best parameters: {'n_estimators': 100}\n"
     ]
    }
   ],
   "source": [
    "params = [ {'n_estimators': [50, 100, 150]},]\n",
    "\n",
    "modeloRFR = RandomForestRegressor(random_state=0, n_jobs=-1)\n",
    "grid = GridSearchCV(modeloRFR, params, n_jobs=-1)\n",
    "grid.fit(train_data, train_label)\n",
    "\n",
    "acc = grid.score(train_data, train_label)\n",
    "print(\"[INFO] grid search accuracy: {:.2f}%\".format(acc * 100))\n",
    "print(\"[INFO] grid search best parameters: {}\".format(grid.best_params_))"
   ]
  },
  {
   "cell_type": "code",
   "execution_count": 9,
   "metadata": {
    "collapsed": true
   },
   "outputs": [],
   "source": [
    "modeloRFR=RandomForestRegressor(random_state=0, n_jobs=-1, n_estimators=100)"
   ]
  },
  {
   "cell_type": "code",
   "execution_count": 13,
   "metadata": {
    "collapsed": false
   },
   "outputs": [
    {
     "name": "stdout",
     "output_type": "stream",
     "text": [
      "Mean squared error: 27109081230.21318\n"
     ]
    }
   ],
   "source": [
    "precision = cross_val_score(modeloRFR, X=train_data, y=train_label, scoring='neg_mean_squared_error', cv=4, n_jobs=-1)\n",
    "print (\"Mean squared error: {0:.5f}\").format(-precision.mean())"
   ]
  },
  {
   "cell_type": "code",
   "execution_count": 10,
   "metadata": {
    "collapsed": false
   },
   "outputs": [
    {
     "name": "stdout",
     "output_type": "stream",
     "text": [
      "Mean squared error: 26150216057.42389\n"
     ]
    }
   ],
   "source": [
    "train_data_aux = train_data.drop('surface_covered_in_m2', axis=1)\n",
    "precision = cross_val_score(modeloRFR, X=train_data_aux, y=train_label, scoring='neg_mean_squared_error', cv=4, n_jobs=-1)\n",
    "print (\"Mean squared error: {0:.5f}\").format(-precision.mean())"
   ]
  },
  {
   "cell_type": "code",
   "execution_count": 9,
   "metadata": {
    "collapsed": false
   },
   "outputs": [],
   "source": [
    "#surface_covered_in_m2 no es necesaria, surface_total_in_m2 es la relevante para el precio\n",
    "train_data = train_data.drop('surface_covered_in_m2', axis=1)"
   ]
  },
  {
   "cell_type": "code",
   "execution_count": 15,
   "metadata": {
    "collapsed": false
   },
   "outputs": [
    {
     "name": "stdout",
     "output_type": "stream",
     "text": [
      "Mean squared error: 25830634026.45104\n"
     ]
    }
   ],
   "source": [
    "train_data_aux = train_data.drop('floor', axis=1)\n",
    "precision = cross_val_score(modeloRFR, X=train_data_aux, y=train_label, scoring='neg_mean_squared_error', cv=4, n_jobs=-1)\n",
    "print (\"Mean squared error: {0:.5f}\").format(-precision.mean())"
   ]
  },
  {
   "cell_type": "code",
   "execution_count": 16,
   "metadata": {
    "collapsed": true
   },
   "outputs": [],
   "source": [
    "#floor no es necesaria, el piso no influye en el precio\n",
    "#train_data = train_data.drop('floor', axis=1)\n",
    "#Pero cuando lo subo a Kaggle, no da mejor resultado cuando no está floor"
   ]
  },
  {
   "cell_type": "code",
   "execution_count": 17,
   "metadata": {
    "collapsed": false
   },
   "outputs": [
    {
     "name": "stdout",
     "output_type": "stream",
     "text": [
      "Mean squared error: 25852819748.88316\n"
     ]
    }
   ],
   "source": [
    "train_data_aux = train_data.drop('expenses', axis=1)\n",
    "precision = cross_val_score(modeloRFR, X=train_data_aux, y=train_label, scoring='neg_mean_squared_error', cv=4, n_jobs=-1)\n",
    "print (\"Mean squared error: {0:.5f}\").format(-precision.mean())"
   ]
  },
  {
   "cell_type": "code",
   "execution_count": 18,
   "metadata": {
    "collapsed": false
   },
   "outputs": [
    {
     "name": "stdout",
     "output_type": "stream",
     "text": [
      "Mean squared error: 27393190249.79560\n"
     ]
    }
   ],
   "source": [
    "train_data_aux = train_data.drop('rooms', axis=1)\n",
    "precision = cross_val_score(modeloRFR, X=train_data_aux, y=train_label, scoring='neg_mean_squared_error', cv=4, n_jobs=-1)\n",
    "print (\"Mean squared error: {0:.5f}\").format(-precision.mean())"
   ]
  },
  {
   "cell_type": "code",
   "execution_count": 21,
   "metadata": {
    "collapsed": false
   },
   "outputs": [],
   "source": [
    "# cargamos el archivo de test\n",
    "test  = pd.read_csv(\"../data/properati/properati_dataset_testing_noprice.csv\")\n",
    "\n",
    "test = test.drop('description', axis=1)\n",
    "test = test.drop('place_with_parent_names', axis=1)\n",
    "test = test.drop('place_name', axis=1)\n",
    "test = test.drop('property_type', axis=1)\n",
    "test = test.drop('lat-lon', axis=1)\n",
    "test = test.drop('country_name', axis=1)\n",
    "test = test.drop('operation', axis=1)\n",
    "test = test.drop('created_on', axis=1)\n",
    "test = test.drop('state_name', axis=1)\n",
    "test = test.drop('lat', axis=1)\n",
    "test = test.drop('lon', axis=1)\n",
    "test = test.drop('surface_covered_in_m2', axis=1)\n",
    "#test = test.drop('floor', axis=1)\n",
    "\n",
    "test['expenses'] = pd.to_numeric(test['expenses'], errors='coerce')\n",
    "\n",
    "test[['surface_total_in_m2','rooms','floor','expenses']] = \\\n",
    "test[['surface_total_in_m2','rooms','floor','expenses']].fillna(value=0)\n",
    "test[['expenses']] = test[['expenses']].fillna(value=0)"
   ]
  },
  {
   "cell_type": "code",
   "execution_count": 30,
   "metadata": {
    "collapsed": true
   },
   "outputs": [],
   "source": [
    "modeloRFR.fit(train_data, train[\"price_aprox_usd\"])\n",
    "\n",
    "result = modeloRFR.predict(test)"
   ]
  },
  {
   "cell_type": "code",
   "execution_count": 22,
   "metadata": {
    "collapsed": true
   },
   "outputs": [],
   "source": [
    "def write_submission(test_data, prediction, file_output):\n",
    "    \n",
    "    archivo_entrada = open(test_data)\n",
    "    entrada_csv = csv.reader(archivo_entrada)\n",
    "    next(entrada_csv, None)  # skip the headers\n",
    "\n",
    "    archivo_salida = open(file_output, 'w')\n",
    "    submit_csv = csv.writer(archivo_salida)\n",
    "    submit_csv.writerow(['id', 'price_usd'])\n",
    "\n",
    "    for reg1, reg2  in zip(entrada_csv, prediction):\n",
    "        linea = [reg1[0], round(reg2, 2)]\n",
    "        submit_csv.writerow(linea)\n",
    "    archivo_salida.close()"
   ]
  },
  {
   "cell_type": "code",
   "execution_count": 33,
   "metadata": {
    "collapsed": false
   },
   "outputs": [],
   "source": [
    "write_submission(\"../data/properati/properati_dataset_testing_noprice.csv\", result, \"../predicciones/RFR_n100_sinCovered.csv\")"
   ]
  },
  {
   "cell_type": "code",
   "execution_count": null,
   "metadata": {
    "collapsed": true
   },
   "outputs": [],
   "source": [
    "del modeloRFR"
   ]
  },
  {
   "cell_type": "code",
   "execution_count": 38,
   "metadata": {
    "collapsed": true
   },
   "outputs": [],
   "source": [
    "#-----------------------------------------------------------------\n",
    "# Modelo de Regresión Lineal\n",
    "#-----------------------------------------------------------------\n",
    "from sklearn.linear_model import LinearRegression"
   ]
  },
  {
   "cell_type": "code",
   "execution_count": 42,
   "metadata": {
    "collapsed": false
   },
   "outputs": [
    {
     "data": {
      "text/plain": [
       "LinearRegression(copy_X=True, fit_intercept=True, n_jobs=1, normalize=False)"
      ]
     },
     "execution_count": 42,
     "metadata": {},
     "output_type": "execute_result"
    }
   ],
   "source": [
    "modeloLR=LinearRegression()\n",
    "\n",
    "#modeloLR.fit(train_data,train_label)"
   ]
  },
  {
   "cell_type": "code",
   "execution_count": 44,
   "metadata": {
    "collapsed": false
   },
   "outputs": [
    {
     "name": "stdout",
     "output_type": "stream",
     "text": [
      "Mean squared error: 204111411577.90945\n"
     ]
    }
   ],
   "source": [
    "precision = cross_val_score(modeloLR, X=train_data, y=train_label, scoring='neg_mean_squared_error', cv=4, n_jobs=-1)\n",
    "print (\"Mean squared error: {0:.5f}\").format(-precision.mean())"
   ]
  },
  {
   "cell_type": "code",
   "execution_count": null,
   "metadata": {
    "collapsed": true
   },
   "outputs": [],
   "source": [
    "modeloLR.fit(train_data, train[\"price_aprox_usd\"])\n",
    "\n",
    "result = modeloLR.predict(test)"
   ]
  },
  {
   "cell_type": "code",
   "execution_count": null,
   "metadata": {
    "collapsed": true
   },
   "outputs": [],
   "source": [
    "write_submission(\"../data/properati/properati_dataset_testing_noprice.csv\", result, \"../predicciones/LR.csv\")"
   ]
  },
  {
   "cell_type": "code",
   "execution_count": null,
   "metadata": {
    "collapsed": true
   },
   "outputs": [],
   "source": [
    "del modeloLR"
   ]
  },
  {
   "cell_type": "code",
   "execution_count": 9,
   "metadata": {
    "collapsed": true
   },
   "outputs": [],
   "source": [
    "#-----------------------------------------------------------------\n",
    "# Modelo de Lasso\n",
    "#-----------------------------------------------------------------\n",
    "from sklearn.linear_model import Lasso"
   ]
  },
  {
   "cell_type": "code",
   "execution_count": 13,
   "metadata": {
    "collapsed": false
   },
   "outputs": [
    {
     "name": "stdout",
     "output_type": "stream",
     "text": [
      "[INFO] grid search accuracy: 13.92%\n",
      "[INFO] grid search best parameters: {'alpha': 1.0}\n"
     ]
    }
   ],
   "source": [
    "params = [ {'alpha': [0.5, 1.0]}]\n",
    "\n",
    "modeloLasso = Lasso(random_state=0)\n",
    "grid = GridSearchCV(modeloLasso, params, n_jobs=-1)\n",
    "grid.fit(train_data, train_label)\n",
    "\n",
    "acc = grid.score(train_data, train_label)\n",
    "print(\"[INFO] grid search accuracy: {:.2f}%\".format(acc * 100))\n",
    "print(\"[INFO] grid search best parameters: {}\".format(grid.best_params_))"
   ]
  },
  {
   "cell_type": "code",
   "execution_count": 60,
   "metadata": {
    "collapsed": true
   },
   "outputs": [],
   "source": [
    "#Mientras mas grande el alpha, para grid search es mejor, pero en la practica en porcentaje siempre da la misma precision\n",
    "modeloLasso=Lasso(random_state=0, alpha=0.5)\n",
    "\n",
    "#modeloLasso.fit(train_data,train_label)"
   ]
  },
  {
   "cell_type": "code",
   "execution_count": 61,
   "metadata": {
    "collapsed": false
   },
   "outputs": [
    {
     "name": "stdout",
     "output_type": "stream",
     "text": [
      "Mean squared error: 204110589404.69498\n"
     ]
    }
   ],
   "source": [
    "precision = cross_val_score(modeloLasso, X=train_data, y=train_label, scoring='neg_mean_squared_error', cv=4, n_jobs=-1)\n",
    "print (\"Mean squared error: {0:.5f}\").format(-precision.mean())"
   ]
  },
  {
   "cell_type": "code",
   "execution_count": null,
   "metadata": {
    "collapsed": true
   },
   "outputs": [],
   "source": [
    "modeloLasso.fit(train_data, train[\"price_aprox_usd\"])\n",
    "\n",
    "result = modeloLasso.predict(test)"
   ]
  },
  {
   "cell_type": "code",
   "execution_count": null,
   "metadata": {
    "collapsed": true
   },
   "outputs": [],
   "source": [
    "write_submission(\"../data/properati/properati_dataset_testing_noprice.csv\", result, \"../predicciones/Lasso.csv\")"
   ]
  },
  {
   "cell_type": "code",
   "execution_count": 14,
   "metadata": {
    "collapsed": true
   },
   "outputs": [],
   "source": [
    "del modeloLasso"
   ]
  },
  {
   "cell_type": "code",
   "execution_count": 15,
   "metadata": {
    "collapsed": true
   },
   "outputs": [],
   "source": [
    "#-----------------------------------------------------------------\n",
    "# Modelo Ridge\n",
    "#-----------------------------------------------------------------\n",
    "from sklearn.linear_model import Ridge"
   ]
  },
  {
   "cell_type": "code",
   "execution_count": 16,
   "metadata": {
    "collapsed": false
   },
   "outputs": [
    {
     "name": "stdout",
     "output_type": "stream",
     "text": [
      "[INFO] grid search accuracy: 13.92%\n",
      "[INFO] grid search best parameters: {'alpha': 0.1}\n"
     ]
    }
   ],
   "source": [
    "params = [ {'alpha': [0.1, 0.5, 1.0]}]\n",
    "\n",
    "modeloRidge = Ridge(random_state=0)\n",
    "grid = GridSearchCV(modeloRidge, params, n_jobs=-1)\n",
    "grid.fit(train_data, train_label)\n",
    "\n",
    "acc = grid.score(train_data, train_label)\n",
    "print(\"[INFO] grid search accuracy: {:.2f}%\".format(acc * 100))\n",
    "print(\"[INFO] grid search best parameters: {}\".format(grid.best_params_))"
   ]
  },
  {
   "cell_type": "code",
   "execution_count": 69,
   "metadata": {
    "collapsed": true
   },
   "outputs": [],
   "source": [
    "modeloRidge=Ridge(random_state=0, alpha=0.1)\n",
    "\n",
    "#modeloRidge.fit(train_data,train_label)"
   ]
  },
  {
   "cell_type": "code",
   "execution_count": 70,
   "metadata": {
    "collapsed": false
   },
   "outputs": [
    {
     "name": "stdout",
     "output_type": "stream",
     "text": [
      "Mean squared error: 204111415689.90906\n"
     ]
    }
   ],
   "source": [
    "precision = cross_val_score(modeloRidge, X=train_data, y=train_label, scoring='neg_mean_squared_error', cv=4, n_jobs=-1)\n",
    "print (\"Mean squared error: {0:.5f}\").format(-precision.mean())"
   ]
  },
  {
   "cell_type": "code",
   "execution_count": 71,
   "metadata": {
    "collapsed": true
   },
   "outputs": [],
   "source": [
    "modeloRidge.fit(train_data, train[\"price_aprox_usd\"])\n",
    "\n",
    "result = modeloRidge.predict(test)"
   ]
  },
  {
   "cell_type": "code",
   "execution_count": 72,
   "metadata": {
    "collapsed": true
   },
   "outputs": [],
   "source": [
    "write_submission(\"../data/properati/properati_dataset_testing_noprice.csv\", result, \"../predicciones/Ridge.csv\")"
   ]
  },
  {
   "cell_type": "code",
   "execution_count": 17,
   "metadata": {
    "collapsed": true
   },
   "outputs": [],
   "source": [
    "del modeloRidge"
   ]
  },
  {
   "cell_type": "code",
   "execution_count": 12,
   "metadata": {
    "collapsed": true
   },
   "outputs": [],
   "source": [
    "#-----------------------------------------------------------------\n",
    "# Modelo BaggingRegressor\n",
    "#-----------------------------------------------------------------\n",
    "from sklearn.ensemble import BaggingRegressor"
   ]
  },
  {
   "cell_type": "code",
   "execution_count": 14,
   "metadata": {
    "collapsed": false
   },
   "outputs": [
    {
     "name": "stdout",
     "output_type": "stream",
     "text": [
      "[INFO] grid search accuracy: 84.57%\n",
      "[INFO] grid search best parameters: {'n_estimators': 100}\n"
     ]
    }
   ],
   "source": [
    "params = [ {'n_estimators': [50, 100, 150]}]\n",
    "\n",
    "modeloBR = BaggingRegressor(random_state=0)\n",
    "grid = GridSearchCV(modeloBR, params, n_jobs=-1)\n",
    "grid.fit(train_data, train_label)\n",
    "\n",
    "acc = grid.score(train_data, train_label)\n",
    "print(\"[INFO] grid search accuracy: {:.2f}%\".format(acc * 100))\n",
    "print(\"[INFO] grid search best parameters: {}\".format(grid.best_params_))"
   ]
  },
  {
   "cell_type": "code",
   "execution_count": 15,
   "metadata": {
    "collapsed": true
   },
   "outputs": [],
   "source": [
    "modeloBR=BaggingRegressor(n_estimators=100)\n",
    "\n",
    "#modeloBR.fit(train_data,train_label)"
   ]
  },
  {
   "cell_type": "code",
   "execution_count": 16,
   "metadata": {
    "collapsed": false
   },
   "outputs": [
    {
     "name": "stdout",
     "output_type": "stream",
     "text": [
      "Mean squared error: 26738941267.16972\n"
     ]
    }
   ],
   "source": [
    "precision = cross_val_score(modeloBR, X=train_data, y=train_label, scoring='neg_mean_squared_error', cv=4, n_jobs=-1)\n",
    "print (\"Mean squared error: {0:.5f}\").format(-precision.mean())"
   ]
  },
  {
   "cell_type": "code",
   "execution_count": null,
   "metadata": {
    "collapsed": true
   },
   "outputs": [],
   "source": [
    "modeloBR.fit(train_data, train[\"price_aprox_usd\"])\n",
    "\n",
    "result = modeloBR.predict(test)"
   ]
  },
  {
   "cell_type": "code",
   "execution_count": null,
   "metadata": {
    "collapsed": true
   },
   "outputs": [],
   "source": [
    "write_submission(\"../data/properati/properati_dataset_testing_noprice.csv\", result, \"../predicciones/BR.csv\")"
   ]
  },
  {
   "cell_type": "code",
   "execution_count": null,
   "metadata": {
    "collapsed": true
   },
   "outputs": [],
   "source": [
    "del modeloBR"
   ]
  },
  {
   "cell_type": "code",
   "execution_count": 18,
   "metadata": {
    "collapsed": true
   },
   "outputs": [],
   "source": [
    "#-----------------------------------------------------------------\n",
    "# Modelo ElasticNet\n",
    "#-----------------------------------------------------------------\n",
    "from sklearn.linear_model import ElasticNet"
   ]
  },
  {
   "cell_type": "code",
   "execution_count": 21,
   "metadata": {
    "collapsed": false
   },
   "outputs": [
    {
     "name": "stdout",
     "output_type": "stream",
     "text": [
      "[INFO] grid search accuracy: 7.01%\n",
      "[INFO] grid search best parameters: {'alpha': 2.0, 'l1_ratio': 2.0}\n"
     ]
    }
   ],
   "source": [
    "params = {'alpha':[0.1, 0.5, 1.0, 2.0], 'l1_ratio':[0.1, 0.5, 1.0, 2.0]}\n",
    "\n",
    "modeloElasticNet = ElasticNet(random_state=0)\n",
    "grid = GridSearchCV(modeloElasticNet, params, n_jobs=-1)\n",
    "grid.fit(train_data, train_label)\n",
    "\n",
    "acc = grid.score(train_data, train_label)\n",
    "print(\"[INFO] grid search accuracy: {:.2f}%\".format(acc * 100))\n",
    "print(\"[INFO] grid search best parameters: {}\".format(grid.best_params_))"
   ]
  },
  {
   "cell_type": "code",
   "execution_count": 13,
   "metadata": {
    "collapsed": true
   },
   "outputs": [],
   "source": [
    "#Con valores mas altos de alpha y l1_ratio no mejora la precisión\n",
    "modeloElasticNet=ElasticNet(alpha=2.0,l1_ratio=2.0)\n",
    "\n",
    "#modeloElasticNet.fit(train_data,train_label)"
   ]
  },
  {
   "cell_type": "code",
   "execution_count": 18,
   "metadata": {
    "collapsed": false
   },
   "outputs": [
    {
     "name": "stdout",
     "output_type": "stream",
     "text": [
      "Mean squared error: 1655752975617.27710\n"
     ]
    }
   ],
   "source": [
    "precision = cross_val_score(modeloElasticNet, X=train_data, y=train_label, scoring='neg_mean_squared_error', cv=4, n_jobs=-1)\n",
    "print (\"Mean squared error: {0:.5f}\").format(-precision.mean())"
   ]
  },
  {
   "cell_type": "code",
   "execution_count": 14,
   "metadata": {
    "collapsed": false
   },
   "outputs": [],
   "source": [
    "modeloElasticNet.fit(train_data, train[\"price_aprox_usd\"])\n",
    "\n",
    "result = modeloElasticNet.predict(test)"
   ]
  },
  {
   "cell_type": "code",
   "execution_count": 17,
   "metadata": {
    "collapsed": false
   },
   "outputs": [],
   "source": [
    "write_submission(\"../data/properati/properati_dataset_testing_noprice.csv\", result, \"../predicciones/ElasticNet.csv\")"
   ]
  },
  {
   "cell_type": "code",
   "execution_count": 22,
   "metadata": {
    "collapsed": true
   },
   "outputs": [],
   "source": [
    "del modeloElasticNet"
   ]
  },
  {
   "cell_type": "code",
   "execution_count": 23,
   "metadata": {
    "collapsed": true
   },
   "outputs": [],
   "source": [
    "#-----------------------------------------------------------------\n",
    "# Modelo BayesianRidge\n",
    "#-----------------------------------------------------------------\n",
    "from sklearn.linear_model import BayesianRidge"
   ]
  },
  {
   "cell_type": "code",
   "execution_count": 25,
   "metadata": {
    "collapsed": false
   },
   "outputs": [
    {
     "name": "stdout",
     "output_type": "stream",
     "text": [
      "[INFO] grid search accuracy: 13.92%\n",
      "[INFO] grid search best parameters: {'alpha_2': 0.1, 'lambda_1': 1e-06, 'lambda_2': 1.0, 'alpha_1': 2.0}\n"
     ]
    }
   ],
   "source": [
    "params = {'alpha_1':[0.1, 0.5, 1.0, 2.0], 'alpha_2':[0.1, 0.5, 1.0, 2.0], 'lambda_1':[1e-06, 0.1, 1.0], 'lambda_2':[1e-06, 0.1, 1.0]}\n",
    "\n",
    "modeloBRidge = BayesianRidge()\n",
    "grid = GridSearchCV(modeloBRidge, params, n_jobs=-1)\n",
    "grid.fit(train_data, train_label)\n",
    "\n",
    "acc = grid.score(train_data, train_label)\n",
    "print(\"[INFO] grid search accuracy: {:.2f}%\".format(acc * 100))\n",
    "print(\"[INFO] grid search best parameters: {}\".format(grid.best_params_))"
   ]
  },
  {
   "cell_type": "code",
   "execution_count": 15,
   "metadata": {
    "collapsed": true
   },
   "outputs": [],
   "source": [
    "modeloBRidge=BayesianRidge(alpha_1=2.0,alpha_2=0.1,lambda_1=1e-06,lambda_2=1.0)\n",
    "\n",
    "#modeloBRidge.fit(train_data,train_label)"
   ]
  },
  {
   "cell_type": "code",
   "execution_count": 16,
   "metadata": {
    "collapsed": false
   },
   "outputs": [
    {
     "name": "stdout",
     "output_type": "stream",
     "text": [
      "Mean squared error: 204172338903.49078\n"
     ]
    }
   ],
   "source": [
    "precision = cross_val_score(modeloBRidge, X=train_data, y=train_label, scoring='neg_mean_squared_error', cv=4, n_jobs=-1)\n",
    "print (\"Mean squared error: {0:.5f}\").format(-precision.mean())"
   ]
  },
  {
   "cell_type": "code",
   "execution_count": 17,
   "metadata": {
    "collapsed": true
   },
   "outputs": [],
   "source": [
    "modeloBRidge.fit(train_data, train[\"price_aprox_usd\"])\n",
    "\n",
    "result = modeloBRidge.predict(test)"
   ]
  },
  {
   "cell_type": "code",
   "execution_count": 18,
   "metadata": {
    "collapsed": true
   },
   "outputs": [],
   "source": [
    "write_submission(\"../data/properati/properati_dataset_testing_noprice.csv\", result, \"../predicciones/BRidge.csv\")"
   ]
  },
  {
   "cell_type": "code",
   "execution_count": 26,
   "metadata": {
    "collapsed": true
   },
   "outputs": [],
   "source": [
    "del modeloBRidge"
   ]
  },
  {
   "cell_type": "code",
   "execution_count": null,
   "metadata": {
    "collapsed": true
   },
   "outputs": [],
   "source": [
    "#-----------------------------------------------------------------\n",
    "# Modelo AdaBoostRegressor\n",
    "#-----------------------------------------------------------------\n",
    "from sklearn.ensemble import AdaBoostRegressor"
   ]
  },
  {
   "cell_type": "code",
   "execution_count": null,
   "metadata": {
    "collapsed": true
   },
   "outputs": [],
   "source": [
    "params = [{'n_estimators': [10, 50, 100]}]\n",
    "\n",
    "modeloABR = AdaBoostRegressor(random_state=0)\n",
    "grid = GridSearchCV(modeloABR, params, n_jobs=-1)\n",
    "grid.fit(train_data, train_label)\n",
    "\n",
    "acc = grid.score(train_data, train_label)\n",
    "print(\"[INFO] grid search accuracy: {:.2f}%\".format(acc * 100))\n",
    "print(\"[INFO] grid search best parameters: {}\".format(grid.best_params_))"
   ]
  },
  {
   "cell_type": "code",
   "execution_count": null,
   "metadata": {
    "collapsed": true
   },
   "outputs": [],
   "source": [
    "modeloABR=AdaBoostRegressor() #Por defecto (n_estimators=50) es mejor que n=10 y n=100\n",
    "\n",
    "#modeloABR.fit(train_data,train_label)"
   ]
  },
  {
   "cell_type": "code",
   "execution_count": null,
   "metadata": {
    "collapsed": true
   },
   "outputs": [],
   "source": [
    "precision = cross_val_score(modeloABR, X=train_data, y=train_label, scoring='neg_mean_squared_error', cv=4, n_jobs=-1)\n",
    "print (\"Mean squared error: {0:.5f}\").format(-precision.mean())"
   ]
  },
  {
   "cell_type": "code",
   "execution_count": null,
   "metadata": {
    "collapsed": true
   },
   "outputs": [],
   "source": [
    "modeloABR.fit(train_data, train[\"price_aprox_usd\"])\n",
    "\n",
    "result = modeloABR.predict(test)"
   ]
  },
  {
   "cell_type": "code",
   "execution_count": null,
   "metadata": {
    "collapsed": true
   },
   "outputs": [],
   "source": [
    "write_submission(\"../data/properati/properati_dataset_testing_noprice.csv\", result, \"../predicciones/ABR.csv\")"
   ]
  },
  {
   "cell_type": "code",
   "execution_count": null,
   "metadata": {
    "collapsed": true
   },
   "outputs": [],
   "source": [
    "del modeloABR"
   ]
  },
  {
   "cell_type": "code",
   "execution_count": 17,
   "metadata": {
    "collapsed": true
   },
   "outputs": [],
   "source": [
    "#-----------------------------------------------------------------\n",
    "# Modelo DecisionTreeRegressor\n",
    "#-----------------------------------------------------------------\n",
    "from sklearn.tree import DecisionTreeRegressor"
   ]
  },
  {
   "cell_type": "code",
   "execution_count": 18,
   "metadata": {
    "collapsed": true
   },
   "outputs": [],
   "source": [
    "modeloDecisionTreeR=DecisionTreeRegressor(random_state=0)\n",
    "\n",
    "#modeloDecisionTreeR.fit(train_data,train_label)"
   ]
  },
  {
   "cell_type": "code",
   "execution_count": 19,
   "metadata": {
    "collapsed": false
   },
   "outputs": [
    {
     "name": "stdout",
     "output_type": "stream",
     "text": [
      "Mean squared error: 25932647216.57199\n"
     ]
    }
   ],
   "source": [
    "precision = cross_val_score(modeloDecisionTreeR, X=train_data, y=train_label, scoring='neg_mean_squared_error', cv=4, n_jobs=-1)\n",
    "print (\"Mean squared error: {0:.5f}\").format(-precision.mean())"
   ]
  },
  {
   "cell_type": "code",
   "execution_count": 23,
   "metadata": {
    "collapsed": false
   },
   "outputs": [],
   "source": [
    "modeloDecisionTreeR.fit(train_data, train[\"price_aprox_usd\"])\n",
    "\n",
    "result = modeloDecisionTreeR.predict(test)"
   ]
  },
  {
   "cell_type": "code",
   "execution_count": 24,
   "metadata": {
    "collapsed": true
   },
   "outputs": [],
   "source": [
    "write_submission(\"../data/properati/properati_dataset_testing_noprice.csv\", result, \"../predicciones/DecisionTreeR.csv\")"
   ]
  },
  {
   "cell_type": "code",
   "execution_count": 25,
   "metadata": {
    "collapsed": true
   },
   "outputs": [],
   "source": [
    "del modeloDecisionTreeR"
   ]
  },
  {
   "cell_type": "code",
   "execution_count": null,
   "metadata": {
    "collapsed": true
   },
   "outputs": [],
   "source": [
    "#-----------------------------------------------------------------\n",
    "# Modelo KNN\n",
    "#-----------------------------------------------------------------\n",
    "from sklearn.neighbors import KNeighborsRegressor"
   ]
  },
  {
   "cell_type": "code",
   "execution_count": null,
   "metadata": {
    "collapsed": true
   },
   "outputs": [],
   "source": [
    "params = [{'n_neighbors': [3, 5, 10]}]\n",
    "\n",
    "modeloKNN = KNeighborsRegressor(n_jobs=-1)\n",
    "grid = GridSearchCV(modeloKNN, params, n_jobs=-1)\n",
    "grid.fit(train_data, train_label)\n",
    "\n",
    "acc = grid.score(train_data, train_label)\n",
    "print(\"[INFO] grid search accuracy: {:.2f}%\".format(acc * 100))\n",
    "print(\"[INFO] grid search best parameters: {}\".format(grid.best_params_))"
   ]
  },
  {
   "cell_type": "code",
   "execution_count": null,
   "metadata": {
    "collapsed": true
   },
   "outputs": [],
   "source": []
  }
 ],
 "metadata": {
  "kernelspec": {
   "display_name": "Python 2",
   "language": "python",
   "name": "python2"
  },
  "language_info": {
   "codemirror_mode": {
    "name": "ipython",
    "version": 2
   },
   "file_extension": ".py",
   "mimetype": "text/x-python",
   "name": "python",
   "nbconvert_exporter": "python",
   "pygments_lexer": "ipython2",
   "version": "2.7.12"
  }
 },
 "nbformat": 4,
 "nbformat_minor": 1
}
