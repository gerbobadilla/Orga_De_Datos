{
 "cells": [
  {
   "cell_type": "code",
   "execution_count": 1,
   "metadata": {
    "collapsed": true
   },
   "outputs": [],
   "source": [
    "import numpy as np\n",
    "import pandas as pd\n",
    "import csv\n",
    "from time import time\n",
    "\n",
    "# plots\n",
    "import matplotlib.pyplot as plt\n",
    "import seaborn as sns\n",
    "\n",
    "from sklearn.model_selection import GridSearchCV\n",
    "from sklearn.model_selection import cross_val_score\n",
    "from datetime import datetime\n",
    "import matplotlib.pyplot as plt"
   ]
  },
  {
   "cell_type": "code",
   "execution_count": 2,
   "metadata": {
    "collapsed": true
   },
   "outputs": [],
   "source": [
    "data_17_08 = pd.read_csv('../data/properati/properati-AR-2017-08-01-properties-sell.csv')\n",
    "data_17_02 = pd.read_csv('../data/properati/properati-AR-2017-02-01-properties-sell.csv')\n",
    "data_16_08 = pd.read_csv('../data/properati/properati-AR-2016-08-01-properties-sell.csv')\n",
    "data_16_02 = pd.read_csv('../data/properati/properati-AR-2016-02-01-properties-sell.csv')\n",
    "data_15_08 = pd.read_csv('../data/properati/properati-AR-2015-08-01-properties-sell.csv')\n",
    "data_15_02 = pd.read_csv('../data/properati/properati-AR-2015-02-01-properties-sell.csv')\n",
    "data_14_08 = pd.read_csv('../data/properati/properati-AR-2014-08-01-properties-sell.csv')\n",
    "data_14_02 = pd.read_csv('../data/properati/properati-AR-2014-02-01-properties-sell.csv')\n",
    "data_13_08 = pd.read_csv('../data/properati/properati-AR-2013-08-01-properties-sell.csv')\n",
    "\n",
    "data_frames16_17 = [data_17_08, data_17_02, data_16_08, data_16_02]\n",
    "train16_17 = pd.concat(data_frames16_17)\n",
    "\n",
    "#Nos quedamos con las zonas de Capital Federal y GBA\n",
    "train16_17 = train16_17.loc[(train16_17.state_name=='Capital Federal') | (train16_17.state_name.str.contains('G.B.A'))]\n",
    "\n",
    "#Los dataframe del 2013, 2014, 2015 no tienen la columna state_name, todas las propiedades son de CABA y GBA\n",
    "data_frames13_15 = [data_15_08,data_15_02,data_14_08,data_14_02,data_13_08]\n",
    "train13_15 = pd.concat(data_frames13_15)\n",
    "\n",
    "train13_15.rename(columns={'surface_in_m2':'surface_total_in_m2'}, inplace=True)\n",
    "\n",
    "data_frames = [train16_17,train13_15]\n",
    "train = pd.concat(data_frames)"
   ]
  },
  {
   "cell_type": "code",
   "execution_count": 3,
   "metadata": {
    "collapsed": true
   },
   "outputs": [],
   "source": [
    "train = train.loc[(train.property_type != 'store')]\n",
    "\n",
    "train['created_on'] = pd.to_datetime(train['created_on'])\n",
    "train = train.drop('image_thumbnail', axis=1)\n",
    "train = train.drop('operation', axis=1)\n",
    "train = train.drop('properati_url', axis=1)\n",
    "train = train.drop('description', axis=1)\n",
    "train = train.drop('place_with_parent_names', axis=1)\n",
    "train = train.drop('title', axis=1)\n",
    "train = train.drop('state_name', axis=1)\n",
    "train = train.drop('property_type', axis=1)\n",
    "train = train.drop('lat-lon', axis=1)\n",
    "train = train.drop('id', axis=1)\n",
    "train = train.drop('country_name', axis=1)\n",
    "train = train.drop('extra', axis=1)\n",
    "train = train.drop('price_aprox_local_currency', axis=1)\n",
    "train = train.drop('price_per_m2', axis=1)\n",
    "train = train.drop('currency', axis=1)\n",
    "train = train.drop('created_on', axis=1)\n",
    "train = train.drop('geonames_id', axis=1)\n",
    "train = train.drop('lat', axis=1)\n",
    "train = train.drop('lon', axis=1)\n",
    "train = train.drop('price', axis=1)\n",
    "train = train.drop('surface_covered_in_m2', axis=1)"
   ]
  },
  {
   "cell_type": "code",
   "execution_count": 4,
   "metadata": {
    "collapsed": true
   },
   "outputs": [],
   "source": [
    "train['expenses'] = pd.to_numeric(train['expenses'], errors='coerce')\n",
    "train['price_usd_per_m2'] = pd.to_numeric(train['price_usd_per_m2'], errors='coerce')\n",
    "train['surface_total_in_m2'] = pd.to_numeric(train['surface_total_in_m2'], errors='coerce')\n",
    "train['floor'] = pd.to_numeric(train['floor'], errors='coerce')\n",
    "train['rooms'] = pd.to_numeric(train['rooms'], errors='coerce')\n",
    "\n",
    "train[['price_usd_per_m2', 'rooms','surface_total_in_m2']] \\\n",
    "= train[['price_usd_per_m2', 'rooms','surface_total_in_m2']].fillna(value=0)\n",
    "train[['expenses']] = train[['expenses']].fillna(value=0)\n",
    "train[['floor']] = train[['floor']].fillna(value=0)\n",
    "train[['price_aprox_usd']] = train[['price_aprox_usd']].fillna(value=0)\n",
    "\n",
    "#Elimino las filas que no indican el precio (o indican el precio pero ningun otro feature)\n",
    "train=train.loc[train['price_aprox_usd'] > 0]\n",
    "train=train.loc[(train['expenses'] > 0) | (train['floor'] > 0) | (train['price_usd_per_m2'] > 0) | (train['rooms'] > 0) \\\n",
    "            | (train['surface_total_in_m2'] > 0)]"
   ]
  },
  {
   "cell_type": "code",
   "execution_count": 5,
   "metadata": {
    "collapsed": true
   },
   "outputs": [],
   "source": [
    "# cargamos el archivo de test\n",
    "test  = pd.read_csv(\"../data/properati/properati_dataset_testing_noprice.csv\")\n",
    "\n",
    "test = test.drop('description', axis=1)\n",
    "test = test.drop('place_with_parent_names', axis=1)\n",
    "test = test.drop('property_type', axis=1)\n",
    "test = test.drop('lat-lon', axis=1)\n",
    "test = test.drop('country_name', axis=1)\n",
    "test = test.drop('operation', axis=1)\n",
    "test = test.drop('created_on', axis=1)\n",
    "test = test.drop('state_name', axis=1)\n",
    "test = test.drop('lat', axis=1)\n",
    "test = test.drop('lon', axis=1)\n",
    "test = test.drop('surface_covered_in_m2', axis=1)\n",
    "#test = test.drop('floor', axis=1)\n",
    "\n",
    "test['expenses'] = pd.to_numeric(test['expenses'], errors='coerce')\n",
    "\n",
    "test[['surface_total_in_m2','rooms','floor','expenses']] = \\\n",
    "test[['surface_total_in_m2','rooms','floor','expenses']].fillna(value=0)\n",
    "test[['expenses']] = test[['expenses']].fillna(value=0)"
   ]
  },
  {
   "cell_type": "code",
   "execution_count": 6,
   "metadata": {
    "collapsed": false
   },
   "outputs": [],
   "source": [
    "df_places = pd.get_dummies(train['place_name'], drop_first=True)\n",
    "df_Test_places = pd.get_dummies(test['place_name'], drop_first=True)\n",
    "df_places=df_places.filter(df_Test_places.columns.values)\n",
    "\n",
    "#Lugares que no estaban en el el set de entrenamiento\n",
    "BarrioCerradoMalibu=pd.Series(0, df_places.index)\n",
    "VillaBrown=pd.Series(0, df_places.index)\n",
    "VillaNumancia=pd.Series(0, df_places.index)\n",
    "\n",
    "df_places = pd.concat([df_places, BarrioCerradoMalibu, VillaBrown,VillaNumancia], axis=1)\n",
    "\n",
    "train = pd.concat([train, df_places], axis=1)\n",
    "train = train.drop('place_name', axis=1)"
   ]
  },
  {
   "cell_type": "code",
   "execution_count": 7,
   "metadata": {
    "collapsed": true
   },
   "outputs": [],
   "source": [
    "df_places = pd.get_dummies(test['place_name'], drop_first=True)\n",
    "test = pd.concat([test, df_places], axis=1)\n",
    "test = test.drop('place_name', axis=1)"
   ]
  },
  {
   "cell_type": "code",
   "execution_count": 8,
   "metadata": {
    "collapsed": true
   },
   "outputs": [],
   "source": [
    "train.rename(columns={0:'Barrio Cerrado Malibú',1:'VillaBrown',2:'VillaNumancia'}, inplace=True)"
   ]
  },
  {
   "cell_type": "code",
   "execution_count": 9,
   "metadata": {
    "collapsed": false
   },
   "outputs": [
    {
     "data": {
      "text/html": [
       "<div>\n",
       "<style>\n",
       "    .dataframe thead tr:only-child th {\n",
       "        text-align: right;\n",
       "    }\n",
       "\n",
       "    .dataframe thead th {\n",
       "        text-align: left;\n",
       "    }\n",
       "\n",
       "    .dataframe tbody tr th {\n",
       "        vertical-align: top;\n",
       "    }\n",
       "</style>\n",
       "<table border=\"1\" class=\"dataframe\">\n",
       "  <thead>\n",
       "    <tr style=\"text-align: right;\">\n",
       "      <th></th>\n",
       "      <th>expenses</th>\n",
       "      <th>floor</th>\n",
       "      <th>price_aprox_usd</th>\n",
       "      <th>price_usd_per_m2</th>\n",
       "      <th>rooms</th>\n",
       "      <th>surface_total_in_m2</th>\n",
       "      <th>Abasto</th>\n",
       "      <th>Abril Club de Campo</th>\n",
       "      <th>Adrogué</th>\n",
       "      <th>Agronomía</th>\n",
       "      <th>...</th>\n",
       "      <th>Villa Tesei</th>\n",
       "      <th>Villa Udaondo</th>\n",
       "      <th>Villa Urquiza</th>\n",
       "      <th>Villa del Parque</th>\n",
       "      <th>Virrey del Pino</th>\n",
       "      <th>Wilde</th>\n",
       "      <th>William Morris</th>\n",
       "      <th>Barrio Cerrado Malibú</th>\n",
       "      <th>VillaBrown</th>\n",
       "      <th>VillaNumancia</th>\n",
       "    </tr>\n",
       "  </thead>\n",
       "  <tbody>\n",
       "    <tr>\n",
       "      <th>0</th>\n",
       "      <td>0.0</td>\n",
       "      <td>0.0</td>\n",
       "      <td>120000.0</td>\n",
       "      <td>360.36036</td>\n",
       "      <td>0.0</td>\n",
       "      <td>333.0</td>\n",
       "      <td>0</td>\n",
       "      <td>0</td>\n",
       "      <td>0</td>\n",
       "      <td>0</td>\n",
       "      <td>...</td>\n",
       "      <td>0</td>\n",
       "      <td>0</td>\n",
       "      <td>0</td>\n",
       "      <td>0</td>\n",
       "      <td>0</td>\n",
       "      <td>0</td>\n",
       "      <td>0</td>\n",
       "      <td>0</td>\n",
       "      <td>0</td>\n",
       "      <td>0</td>\n",
       "    </tr>\n",
       "  </tbody>\n",
       "</table>\n",
       "<p>1 rows × 228 columns</p>\n",
       "</div>"
      ],
      "text/plain": [
       "   expenses  floor  price_aprox_usd  price_usd_per_m2  rooms  \\\n",
       "0       0.0    0.0         120000.0         360.36036    0.0   \n",
       "\n",
       "   surface_total_in_m2  Abasto  Abril Club de Campo  Adrogué  Agronomía  \\\n",
       "0                333.0       0                    0        0          0   \n",
       "\n",
       "       ...        Villa Tesei  Villa Udaondo  Villa Urquiza  Villa del Parque  \\\n",
       "0      ...                  0              0              0                 0   \n",
       "\n",
       "   Virrey del Pino  Wilde  William Morris  Barrio Cerrado Malibú  VillaBrown  \\\n",
       "0                0      0               0                      0           0   \n",
       "\n",
       "   VillaNumancia  \n",
       "0              0  \n",
       "\n",
       "[1 rows x 228 columns]"
      ]
     },
     "execution_count": 9,
     "metadata": {},
     "output_type": "execute_result"
    }
   ],
   "source": [
    "train.head(1)"
   ]
  },
  {
   "cell_type": "code",
   "execution_count": 10,
   "metadata": {
    "collapsed": false
   },
   "outputs": [
    {
     "name": "stdout",
     "output_type": "stream",
     "text": [
      "train_data set has 419922 rows and 227 columns\n"
     ]
    }
   ],
   "source": [
    "train_label = []\n",
    "train_data = []\n",
    "\n",
    "train_label = train.iloc[:, 2]\n",
    "train_data = train.iloc[:, train.columns != 'price_aprox_usd']\n",
    "print(\"train_data set has {0[0]} rows and {0[1]} columns\".format(train_data.shape))"
   ]
  },
  {
   "cell_type": "code",
   "execution_count": 11,
   "metadata": {
    "collapsed": true
   },
   "outputs": [],
   "source": [
    "#-----------------------------------------------------------------\n",
    "# Modelo Random Forest Regressor\n",
    "#-----------------------------------------------------------------\n",
    "from sklearn.ensemble import RandomForestRegressor"
   ]
  },
  {
   "cell_type": "code",
   "execution_count": 12,
   "metadata": {
    "collapsed": true
   },
   "outputs": [],
   "source": [
    "modeloRFR=RandomForestRegressor(random_state=0, n_jobs=-1, n_estimators=100)\n",
    "\n",
    "#modeloRFR.fit(train_data,train_label)"
   ]
  },
  {
   "cell_type": "code",
   "execution_count": 13,
   "metadata": {
    "collapsed": false
   },
   "outputs": [
    {
     "name": "stdout",
     "output_type": "stream",
     "text": [
      "Mean squared error: 26035325675.41708\n"
     ]
    }
   ],
   "source": [
    "precision = cross_val_score(modeloRFR, X=train_data, y=train_label, scoring='neg_mean_squared_error', cv=4, n_jobs=-1)\n",
    "print (\"Mean squared error: {0:.5f}\").format(-precision.mean())"
   ]
  },
  {
   "cell_type": "code",
   "execution_count": 14,
   "metadata": {
    "collapsed": true
   },
   "outputs": [],
   "source": [
    "modeloRFR.fit(train_data, train[\"price_aprox_usd\"])\n",
    "\n",
    "result = modeloRFR.predict(test)"
   ]
  },
  {
   "cell_type": "code",
   "execution_count": 16,
   "metadata": {
    "collapsed": true
   },
   "outputs": [],
   "source": [
    "def write_submission(test_data, prediction, file_output):\n",
    "    \n",
    "    archivo_entrada = open(test_data)\n",
    "    entrada_csv = csv.reader(archivo_entrada)\n",
    "    next(entrada_csv, None)  # skip the headers\n",
    "\n",
    "    archivo_salida = open(file_output, 'w')\n",
    "    submit_csv = csv.writer(archivo_salida)\n",
    "    submit_csv.writerow(['id', 'price_usd'])\n",
    "\n",
    "    for reg1, reg2  in zip(entrada_csv, prediction):\n",
    "        linea = [reg1[0], round(reg2, 2)]\n",
    "        submit_csv.writerow(linea)\n",
    "    archivo_salida.close()"
   ]
  },
  {
   "cell_type": "code",
   "execution_count": 17,
   "metadata": {
    "collapsed": false
   },
   "outputs": [],
   "source": [
    "write_submission(\"../data/properati/properati_dataset_testing_noprice.csv\", result, \"../predicciones/RFR_dummy.csv\")"
   ]
  },
  {
   "cell_type": "code",
   "execution_count": null,
   "metadata": {
    "collapsed": true
   },
   "outputs": [],
   "source": []
  }
 ],
 "metadata": {
  "kernelspec": {
   "display_name": "Python 2",
   "language": "python",
   "name": "python2"
  },
  "language_info": {
   "codemirror_mode": {
    "name": "ipython",
    "version": 2
   },
   "file_extension": ".py",
   "mimetype": "text/x-python",
   "name": "python",
   "nbconvert_exporter": "python",
   "pygments_lexer": "ipython2",
   "version": "2.7.12"
  },
  "notify_time": "30"
 },
 "nbformat": 4,
 "nbformat_minor": 1
}
